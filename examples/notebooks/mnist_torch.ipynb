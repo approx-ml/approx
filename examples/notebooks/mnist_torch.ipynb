{
 "cells": [
  {
   "cell_type": "code",
   "execution_count": null,
   "outputs": [],
   "source": [
    "import torch\n",
    "import torchvision\n",
    "import torch.nn as nn\n",
    "import torch.utils.data as data\n",
    "\n",
    "from tqdm import tqdm\n",
    "from torchvision.transforms import ToTensor\n",
    "\n",
    "import approx"
   ],
   "metadata": {
    "collapsed": false,
    "pycharm": {
     "name": "#%%\n"
    }
   }
  },
  {
   "cell_type": "code",
   "execution_count": null,
   "outputs": [],
   "source": [
    "approx.auto_select_backend()"
   ],
   "metadata": {
    "collapsed": false,
    "pycharm": {
     "name": "#%%\n"
    }
   }
  },
  {
   "cell_type": "code",
   "execution_count": null,
   "metadata": {
    "collapsed": true,
    "pycharm": {
     "name": "#%%\n"
    }
   },
   "outputs": [],
   "source": [
    "class BasicNN(nn.Module):\n",
    "    def __init__(self):\n",
    "        super().__init__()\n",
    "        self.feature_extractor = nn.Sequential(\n",
    "            nn.Conv2d(1, 16, 3, padding=1),\n",
    "            nn.ReLU(),\n",
    "            nn.MaxPool2d(2, 2),\n",
    "            nn.Conv2d(16, 32, 3, padding=1),\n",
    "            nn.ReLU(),\n",
    "            nn.MaxPool2d(2, 2),\n",
    "            nn.Conv2d(32, 32, 3, padding=1),\n",
    "            nn.ReLU()\n",
    "        )\n",
    "        self.classifier = nn.Linear(32 * 7 * 7, 10)\n",
    "\n",
    "    def forward(self, x):\n",
    "        x = self.feature_extractor(x)\n",
    "        x = x.view(-1, 32 * 7 * 7)\n",
    "        logits = self.classifier(x)\n",
    "        return logits\n",
    "\n",
    "\n",
    "mnist_train = torchvision.datasets.MNIST(root='./datasets', train=True,\n",
    "                                         download=True, transform=ToTensor())\n",
    "mnist_test = torchvision.datasets.MNIST(root='./datasets', train=False,\n",
    "                                        download=True, transform=ToTensor())\n",
    "\n",
    "train_loader = data.DataLoader(mnist_train, batch_size=512, shuffle=True)\n",
    "test_loader = data.DataLoader(mnist_test, batch_size=512, shuffle=True)"
   ]
  },
  {
   "cell_type": "code",
   "execution_count": null,
   "outputs": [],
   "source": [
    "model = BasicNN()\n",
    "model.to('cuda')\n",
    "optim = torch.optim.SGD(model.parameters(), lr=0.01)\n",
    "loss = nn.CrossEntropyLoss().to('cuda')"
   ],
   "metadata": {
    "collapsed": false,
    "pycharm": {
     "name": "#%%\n"
    }
   }
  },
  {
   "cell_type": "code",
   "execution_count": null,
   "outputs": [],
   "source": [
    "with approx.auto_cast_all():\n",
    "    num_epochs = 10\n",
    "    for epoch_it in range(num_epochs):\n",
    "        prog = tqdm(enumerate(train_loader), total=len(train_loader))\n",
    "        for batch_num, (features, labels) in prog:\n",
    "            features = features.to('cuda')\n",
    "            labels = labels.to('cuda')\n",
    "            logits = model(features)\n",
    "            loss_value = loss(logits, labels)\n",
    "            optim.zero_grad()\n",
    "            loss_value.backward()\n",
    "            optim.step()\n",
    "\n",
    "            prog.set_postfix({\n",
    "                \"epoch\": epoch_it + 1,\n",
    "                \"loss\": loss_value.item()\n",
    "            })\n",
    "        prog.close()"
   ],
   "metadata": {
    "collapsed": false,
    "pycharm": {
     "name": "#%%\n"
    }
   }
  }
 ],
 "metadata": {
  "kernelspec": {
   "display_name": "Python 3",
   "language": "python",
   "name": "python3"
  },
  "language_info": {
   "codemirror_mode": {
    "name": "ipython",
    "version": 2
   },
   "file_extension": ".py",
   "mimetype": "text/x-python",
   "name": "python",
   "nbconvert_exporter": "python",
   "pygments_lexer": "ipython2",
   "version": "2.7.6"
  }
 },
 "nbformat": 4,
 "nbformat_minor": 0
}